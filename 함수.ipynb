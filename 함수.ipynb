{
 "cells": [
  {
   "cell_type": "code",
   "execution_count": 1,
   "id": "4d02ea6c",
   "metadata": {},
   "outputs": [
    {
     "data": {
      "text/plain": [
       "1009"
      ]
     },
     "execution_count": 1,
     "metadata": {},
     "output_type": "execute_result"
    }
   ],
   "source": [
    "#def 함수명 (파라미터1, 파라미터2, ...):\n",
    "def sum(a,b):\n",
    "    return a+b\n",
    "\n",
    "sum(1004,5)"
   ]
  },
  {
   "cell_type": "code",
   "execution_count": 2,
   "id": "617406c4",
   "metadata": {},
   "outputs": [],
   "source": [
    "def calc(a,b):\n",
    "    return a+b,a-b,a*b\n",
    "answer = calc(5,6)"
   ]
  },
  {
   "cell_type": "code",
   "execution_count": 3,
   "id": "53b8c782",
   "metadata": {},
   "outputs": [
    {
     "data": {
      "text/plain": [
       "(11, -1, 30)"
      ]
     },
     "execution_count": 3,
     "metadata": {},
     "output_type": "execute_result"
    }
   ],
   "source": [
    "answer"
   ]
  },
  {
   "cell_type": "code",
   "execution_count": 4,
   "id": "d0a745e9",
   "metadata": {},
   "outputs": [
    {
     "name": "stdout",
     "output_type": "stream",
     "text": [
      "kw =  {'name': 'ysp'}\n"
     ]
    }
   ],
   "source": [
    "def name(**kwargs):\n",
    "    print(\"kw = \",kwargs)\n",
    "    return\n",
    "\n",
    "name(name=\"ysp\")"
   ]
  },
  {
   "cell_type": "code",
   "execution_count": null,
   "id": "da0fbdb7",
   "metadata": {},
   "outputs": [],
   "source": []
  }
 ],
 "metadata": {
  "kernelspec": {
   "display_name": "Python 3",
   "language": "python",
   "name": "python3"
  },
  "language_info": {
   "codemirror_mode": {
    "name": "ipython",
    "version": 3
   },
   "file_extension": ".py",
   "mimetype": "text/x-python",
   "name": "python",
   "nbconvert_exporter": "python",
   "pygments_lexer": "ipython3",
   "version": "3.8.8"
  }
 },
 "nbformat": 4,
 "nbformat_minor": 5
}
