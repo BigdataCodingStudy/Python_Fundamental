{
 "cells": [
  {
   "cell_type": "markdown",
   "id": "24e1b86f",
   "metadata": {},
   "source": [
    "자연수 n을 뒤집어 각 자리 숫자를 원소로 가지는 배열 형태로 리턴해주세요. 예를들어 n이 12345이면 [5,4,3,2,1]을 리턴합니다.\n",
    "\n",
    "제한 조건\n",
    "n은 10,000,000,000이하인 자연수입니다."
   ]
  },
  {
   "cell_type": "code",
   "execution_count": null,
   "id": "e0936b22",
   "metadata": {},
   "outputs": [],
   "source": []
  }
 ],
 "metadata": {
  "kernelspec": {
   "display_name": "Python 3",
   "language": "python",
   "name": "python3"
  },
  "language_info": {
   "codemirror_mode": {
    "name": "ipython",
    "version": 3
   },
   "file_extension": ".py",
   "mimetype": "text/x-python",
   "name": "python",
   "nbconvert_exporter": "python",
   "pygments_lexer": "ipython3",
   "version": "3.8.8"
  }
 },
 "nbformat": 4,
 "nbformat_minor": 5
}
