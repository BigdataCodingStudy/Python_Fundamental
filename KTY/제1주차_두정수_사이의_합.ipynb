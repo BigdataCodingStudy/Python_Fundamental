{
 "cells": [
  {
   "cell_type": "markdown",
   "id": "4d53f71b",
   "metadata": {},
   "source": [
    "두 정수 a, b가 주어졌을 때 a와 b 사이에 속한 모든 정수의 합을 리턴하는 함수, solution을 완성하세요.\n",
    "예를 들어 a = 3, b = 5인 경우, 3 + 4 + 5 = 12이므로 12를 리턴합니다.\n",
    "\n",
    "제한 조건\n",
    "a와 b가 같은 경우는 둘 중 아무 수나 리턴하세요.\n",
    "a와 b는 -10,000,000 이상 10,000,000 이하인 정수입니다.\n",
    "a와 b의 대소관계는 정해져있지 않습니다."
   ]
  },
  {
   "cell_type": "code",
   "execution_count": 15,
   "id": "2f2622e9",
   "metadata": {},
   "outputs": [],
   "source": [
    "def solution(a,b):\n",
    "    sum = 0\n",
    "    if a>b:\n",
    "        for i in range(b,a+1):\n",
    "            sum += i \n",
    "    else : \n",
    "        for i in range(a,b+1):\n",
    "            sum += i\n",
    "    return sum"
   ]
  },
  {
   "cell_type": "code",
   "execution_count": 7,
   "id": "4c946a52",
   "metadata": {},
   "outputs": [
    {
     "data": {
      "text/plain": [
       "12"
      ]
     },
     "execution_count": 7,
     "metadata": {},
     "output_type": "execute_result"
    }
   ],
   "source": [
    "solution(3,5)"
   ]
  },
  {
   "cell_type": "code",
   "execution_count": 8,
   "id": "ddad4149",
   "metadata": {},
   "outputs": [
    {
     "data": {
      "text/plain": [
       "3"
      ]
     },
     "execution_count": 8,
     "metadata": {},
     "output_type": "execute_result"
    }
   ],
   "source": [
    "solution(3,3)"
   ]
  },
  {
   "cell_type": "code",
   "execution_count": 16,
   "id": "eb07c6ff",
   "metadata": {},
   "outputs": [
    {
     "data": {
      "text/plain": [
       "12"
      ]
     },
     "execution_count": 16,
     "metadata": {},
     "output_type": "execute_result"
    }
   ],
   "source": [
    "solution(5,3)"
   ]
  },
  {
   "cell_type": "code",
   "execution_count": null,
   "id": "16f2ba7a",
   "metadata": {},
   "outputs": [],
   "source": []
  }
 ],
 "metadata": {
  "kernelspec": {
   "display_name": "Python 3",
   "language": "python",
   "name": "python3"
  },
  "language_info": {
   "codemirror_mode": {
    "name": "ipython",
    "version": 3
   },
   "file_extension": ".py",
   "mimetype": "text/x-python",
   "name": "python",
   "nbconvert_exporter": "python",
   "pygments_lexer": "ipython3",
   "version": "3.8.8"
  }
 },
 "nbformat": 4,
 "nbformat_minor": 5
}
