{
 "cells": [
  {
   "cell_type": "markdown",
   "id": "899d9950",
   "metadata": {},
   "source": [
    "### 실습\n",
    "\n",
    "\n",
    "1)\n",
    "핸드폰전화번호를 입력받고 전화번호 형식에 맞는 지 확인하는 \n",
    "프로그램을 작성하세요.  \n",
    "단, 다음과 같은 형식이어야 합니다. 010-1111-2222 \n",
    "\n",
    "\n",
    "2) \n",
    "생년월일을 입력받고 형식에 맞는지  확인하는 \n",
    "프로그램을 작성하세요.  \n",
    "단,다음과 같은 형식이어야 합니다.     \n",
    "    901211   즉, 년도2자리,  월2자리,  일2자리 \n",
    " \n",
    "\n",
    "<참고>\n",
    "##숫자 3자리 \n",
    "print(re.search(\"^\\d\\d\\d$\",\"100\")) \n",
    "print(re.search(\"^\\d{3}$\", \"100\"))\n",
    "\n",
    "##숫자 1~3자리 \n",
    "print(re.search(\"^\\d{1,3}$\",\"100\"))\n",
    "\n",
    "##a 또는 b  \n",
    "print(re.search(\"^(a|b)$\",\"a\"))\n",
    "print(re.search(\"^(a|b)$\",\"b\"))"
   ]
  },
  {
   "cell_type": "code",
   "execution_count": 2,
   "id": "ea6edbbf",
   "metadata": {},
   "outputs": [],
   "source": [
    "import re"
   ]
  },
  {
   "cell_type": "markdown",
   "id": "29ecd4b1",
   "metadata": {},
   "source": [
    "## 1."
   ]
  },
  {
   "cell_type": "code",
   "execution_count": 14,
   "id": "8b2fedd2",
   "metadata": {},
   "outputs": [
    {
     "name": "stdout",
     "output_type": "stream",
     "text": [
      "핸드폰 번호를 입력하세요01071278378\n",
      "확인하였습니다.\n",
      "010-7127-8378\n"
     ]
    }
   ],
   "source": [
    "a = input(\"핸드폰 번호를 입력하세요\")\n",
    "if re.search(\"^\\d{3}$\", a[:3]) and re.search(\"^\\d{4}$\", a[3:7]) and re.search(\"^\\d{4}$\", a[7:]):\n",
    "    print(\"확인하였습니다.\")\n",
    "    print(a[:3]+\"-\"+a[3:7]+\"-\"+a[7:])\n",
    "else:\n",
    "    print(\"제대로 입력하세요\")"
   ]
  },
  {
   "cell_type": "markdown",
   "id": "d4c087ba",
   "metadata": {},
   "source": [
    "## 2."
   ]
  },
  {
   "cell_type": "code",
   "execution_count": 8,
   "id": "d7051eec",
   "metadata": {},
   "outputs": [
    {
     "name": "stdout",
     "output_type": "stream",
     "text": [
      "생년월일을 입력하세요960706\n",
      "확인하였습니다.\n"
     ]
    }
   ],
   "source": [
    "birth = input(\"생년월일을 입력하세요\")\n",
    "if re.search(\"^\\d{2}$\", birth[:2]) and re.search(\"^\\d{2}$\", birth[2:4]) and re.search(\"^\\d{2}$\", birth[4:]):\n",
    "    print(\"확인하였습니다.\")\n",
    "else:\n",
    "    print(\"제대로 입력하세요\")"
   ]
  },
  {
   "cell_type": "markdown",
   "id": "4552ec25",
   "metadata": {},
   "source": [
    "## 3."
   ]
  },
  {
   "cell_type": "code",
   "execution_count": 40,
   "id": "de94d92c",
   "metadata": {},
   "outputs": [
    {
     "name": "stdout",
     "output_type": "stream",
     "text": [
      "주민등록번호를 입력하세요9607062345696\n",
      "확인\n",
      "여자\n"
     ]
    }
   ],
   "source": [
    "a=input(\"주민등록번호를 입력하세요\")\n",
    "a1 = a[:6]+\"-\"+a[6:]\n",
    "b = re.split(\"-\", a1)\n",
    "if re.search(\"^\\d{6}$\", b[0]) and re.search(\"^\\d{7}$\", b[1]):\n",
    "    print(\"확인\")\n",
    "    if b[1][0] == \"1\":\n",
    "        print(\"남자\")\n",
    "    elif b[1][0] == \"2\":\n",
    "        print(\"여자\")\n",
    "    else:\n",
    "        print(\"성별을 제대로 입력하세요\")\n",
    "else: \n",
    "    print(\"13자리로 입력하세요\")"
   ]
  },
  {
   "cell_type": "code",
   "execution_count": 41,
   "id": "1997c06c",
   "metadata": {},
   "outputs": [
    {
     "name": "stdout",
     "output_type": "stream",
     "text": [
      "주민등록번호를 입력하세요9607062356898\n",
      "확인\n",
      "여자\n"
     ]
    }
   ],
   "source": [
    "a=input(\"주민등록번호를 입력하세요\")\n",
    "if re.search(\"^\\d{13}$\", a):\n",
    "    print(\"확인\")\n",
    "    if a[6] == \"1\":\n",
    "        print(\"남자\")\n",
    "    elif a[6] == \"2\":\n",
    "        print(\"여자\")\n",
    "    else:\n",
    "        print(\"성별을 제대로 입력하세요\")\n",
    "else: \n",
    "    print(\"13자리로 입력하세요\")"
   ]
  },
  {
   "cell_type": "code",
   "execution_count": null,
   "id": "e8d84af2",
   "metadata": {},
   "outputs": [],
   "source": []
  }
 ],
 "metadata": {
  "kernelspec": {
   "display_name": "Python 3",
   "language": "python",
   "name": "python3"
  },
  "language_info": {
   "codemirror_mode": {
    "name": "ipython",
    "version": 3
   },
   "file_extension": ".py",
   "mimetype": "text/x-python",
   "name": "python",
   "nbconvert_exporter": "python",
   "pygments_lexer": "ipython3",
   "version": "3.8.8"
  }
 },
 "nbformat": 4,
 "nbformat_minor": 5
}
