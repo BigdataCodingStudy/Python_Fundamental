{
 "cells": [
  {
   "cell_type": "markdown",
   "id": "e9f5f6d2",
   "metadata": {},
   "source": [
    "어떤 정수들이 있습니다. 이 정수들의 절댓값을 차례대로 담은 정수 배열 absolutes와 이 정수들의 부호를 차례대로 담은 불리언 배열 signs가 매개변수로 주어집니다. 실제 정수들의 합을 구하여 return 하도록 solution 함수를 완성해주세요.\n",
    "\n",
    "제한사항\n",
    "absolutes의 길이는 1 이상 1,000 이하입니다.\n",
    "absolutes의 모든 수는 각각 1 이상 1,000 이하입니다.\n",
    "signs의 길이는 absolutes의 길이와 같습니다.\n",
    "signs[i] 가 참이면 absolutes[i] 의 실제 정수가 양수임을, 그렇지 않으면 음수임을 의미합니다."
   ]
  },
  {
   "cell_type": "code",
   "execution_count": 48,
   "id": "cd54ade8",
   "metadata": {},
   "outputs": [],
   "source": [
    "def solution(absolutes, signs):\n",
    "    sum = 0\n",
    "    for i,j in zip (absolutes, signs):\n",
    "        if j == True:\n",
    "            sum += i\n",
    "        else:\n",
    "            sum -= i\n",
    "    return sum"
   ]
  },
  {
   "cell_type": "code",
   "execution_count": 49,
   "id": "4d2dc19f",
   "metadata": {},
   "outputs": [
    {
     "data": {
      "text/plain": [
       "9"
      ]
     },
     "execution_count": 49,
     "metadata": {},
     "output_type": "execute_result"
    }
   ],
   "source": [
    "solution([4,7,12],[True, False, True])"
   ]
  },
  {
   "cell_type": "code",
   "execution_count": 43,
   "id": "b84af105",
   "metadata": {},
   "outputs": [
    {
     "data": {
      "text/plain": [
       "0"
      ]
     },
     "execution_count": 43,
     "metadata": {},
     "output_type": "execute_result"
    }
   ],
   "source": [
    "solution([1,2,3], [False, False, True])"
   ]
  },
  {
   "cell_type": "code",
   "execution_count": null,
   "id": "3b9044b5",
   "metadata": {},
   "outputs": [],
   "source": []
  },
  {
   "cell_type": "code",
   "execution_count": 34,
   "id": "e4f97fc2",
   "metadata": {},
   "outputs": [],
   "source": [
    "def solution(absolutes, signs):\n",
    "    if bool(signs) == True:\n",
    "        signs = \"+\" # string일 경우에만 가능\n",
    "    else:\n",
    "        signs = \"-\"\n",
    "    sum = signs+absolutes\n",
    "    return sum"
   ]
  }
 ],
 "metadata": {
  "kernelspec": {
   "display_name": "Python 3",
   "language": "python",
   "name": "python3"
  },
  "language_info": {
   "codemirror_mode": {
    "name": "ipython",
    "version": 3
   },
   "file_extension": ".py",
   "mimetype": "text/x-python",
   "name": "python",
   "nbconvert_exporter": "python",
   "pygments_lexer": "ipython3",
   "version": "3.8.8"
  }
 },
 "nbformat": 4,
 "nbformat_minor": 5
}
