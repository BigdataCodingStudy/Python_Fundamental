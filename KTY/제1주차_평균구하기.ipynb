{
 "cells": [
  {
   "cell_type": "markdown",
   "id": "fc242872",
   "metadata": {},
   "source": [
    "문제 설명\n",
    "정수를 담고 있는 배열 arr의 평균값을 return하는 함수, solution을 완성해보세요.\n",
    "\n",
    "제한사항\n",
    "arr은 길이 1 이상, 100 이하인 배열입니다.\n",
    "arr의 원소는 -10,000 이상 10,000 이하인 정수입니다."
   ]
  },
  {
   "cell_type": "code",
   "execution_count": 14,
   "id": "5f165cfd",
   "metadata": {},
   "outputs": [],
   "source": [
    "def solution(arr):\n",
    "    len(arr) >= 1 and len(arr)<= 100\n",
    "    sum = 0\n",
    "    for i in arr:\n",
    "        sum += i\n",
    "        avg = sum / len(arr)\n",
    "    return avg\n"
   ]
  },
  {
   "cell_type": "code",
   "execution_count": 15,
   "id": "43abd77e",
   "metadata": {},
   "outputs": [
    {
     "data": {
      "text/plain": [
       "2.5"
      ]
     },
     "execution_count": 15,
     "metadata": {},
     "output_type": "execute_result"
    }
   ],
   "source": [
    "solution([1,2,3,4])"
   ]
  },
  {
   "cell_type": "code",
   "execution_count": 16,
   "id": "907f4dc7",
   "metadata": {},
   "outputs": [
    {
     "data": {
      "text/plain": [
       "5.0"
      ]
     },
     "execution_count": 16,
     "metadata": {},
     "output_type": "execute_result"
    }
   ],
   "source": [
    "solution([5,5])"
   ]
  },
  {
   "cell_type": "code",
   "execution_count": null,
   "id": "6fdd5c71",
   "metadata": {},
   "outputs": [],
   "source": []
  }
 ],
 "metadata": {
  "kernelspec": {
   "display_name": "Python 3",
   "language": "python",
   "name": "python3"
  },
  "language_info": {
   "codemirror_mode": {
    "name": "ipython",
    "version": 3
   },
   "file_extension": ".py",
   "mimetype": "text/x-python",
   "name": "python",
   "nbconvert_exporter": "python",
   "pygments_lexer": "ipython3",
   "version": "3.8.8"
  }
 },
 "nbformat": 4,
 "nbformat_minor": 5
}
